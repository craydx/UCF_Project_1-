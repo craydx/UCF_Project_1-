{
 "cells": [
  {
   "cell_type": "code",
   "execution_count": 25,
   "id": "f03a1566",
   "metadata": {
    "scrolled": true
   },
   "outputs": [],
   "source": [
    "\n",
    "# Dependencies and Setup\n",
    "%matplotlib notebook\n",
    "import matplotlib.pyplot as plt\n",
    "import pandas as pd\n",
    "import scipy.stats as st\n",
    "from scipy.stats import linregress\n",
    "import hvplot.pandas\n",
    "import seaborn as sns\n",
    " \n",
    "# Read the data and the study results\n",
    "diabetes_df = pd.read_csv('diabetes_prediction_dataset.csv')\n",
    "diabetes_df\n"
   ]
  },
  {
   "cell_type": "code",
   "execution_count": 26,
   "id": "e462f6ab",
   "metadata": {
    "scrolled": true
   },
   "outputs": [],
   "source": [
    "#Determine type of data\n",
    "diabetes_df.dtypes\n"
   ]
  },
  {
   "cell_type": "code",
   "execution_count": 27,
   "id": "a1c75e4d",
   "metadata": {
    "scrolled": false
   },
   "outputs": [],
   "source": [
    "#Age correct for type 2 Diabetes  >=30 year old\n",
    "age_corrected_df = diabetes_df [diabetes_df.age >=30]\n",
    "age_corrected_df.head()"
   ]
  },
  {
   "cell_type": "code",
   "execution_count": 28,
   "id": "fa64a1bf",
   "metadata": {
    "scrolled": false
   },
   "outputs": [],
   "source": [
    "#correct for people diagnosed with diabetes\n",
    "age_corrected_diabetics_df = age_corrected_df[age_corrected_df.diabetes ==1]\n",
    "age_corrected_diabetics_df.head()"
   ]
  },
  {
   "cell_type": "code",
   "execution_count": 29,
   "id": "596b571f",
   "metadata": {},
   "outputs": [],
   "source": [
    "#narrow down male for graphs\n",
    "male_diabetics_df = age_corrected_diabetics_df[(age_corrected_diabetics_df ['gender']== 'Male')]\n",
    "male_diabetics_df.head()"
   ]
  },
  {
   "cell_type": "code",
   "execution_count": 30,
   "id": "df6d8142",
   "metadata": {},
   "outputs": [],
   "source": [
    "mean_age_male_diabetics = male_diabetics_df [\"age\"].mean()\n",
    "mean_age_male_diabetics\n",
    "round(mean_age_male_diabetics,1)"
   ]
  },
  {
   "cell_type": "code",
   "execution_count": 31,
   "id": "5b3484f1",
   "metadata": {
    "scrolled": true
   },
   "outputs": [],
   "source": [
    "#narrow down female for graphs\n",
    "female_diabetics_df = age_corrected_diabetics_df[(age_corrected_diabetics_df ['gender']== 'Female')]\n",
    "female_diabetics_df.head()"
   ]
  },
  {
   "cell_type": "code",
   "execution_count": 32,
   "id": "a5e3b299",
   "metadata": {},
   "outputs": [],
   "source": [
    "mean_age_female_diabetics = female_diabetics_df [\"age\"].mean()\n",
    "mean_age_female_diabetics\n",
    "round(mean_age_female_diabetics,1)"
   ]
  },
  {
   "cell_type": "code",
   "execution_count": 33,
   "id": "8b38d16e",
   "metadata": {},
   "outputs": [],
   "source": [
    "# scatter plot\n",
    "female_diabetics_df.plot(kind='scatter',\n",
    "        x='age',\n",
    "        y='bmi',\n",
    "        color='red')\n",
    " \n",
    "#Set the Y limits so graphs are consistent\n",
    "ylim=(10,90)\n",
    "\n",
    "# set the title\n",
    "plt.title('Female Diabetics Age vs. BMI ')\n",
    "\n",
    "#show grid\n",
    "plt.grid(True)\n",
    "plt.show()\n",
    "\n"
   ]
  },
  {
   "cell_type": "code",
   "execution_count": 34,
   "id": "6edca620",
   "metadata": {},
   "outputs": [],
   "source": [
    "#narrow down male for graphs\n",
    "male_diabetics_df = age_corrected_diabetics_df[(age_corrected_diabetics_df ['gender']== 'Male')]\n",
    "male_diabetics_df.head()"
   ]
  },
  {
   "cell_type": "code",
   "execution_count": 35,
   "id": "4300c7f5",
   "metadata": {},
   "outputs": [],
   "source": [
    "mean_age_male_diabetics = male_diabetics_df[\"age\"].mean()\n",
    "mean_age_male_diabetics\n",
    "round(mean_age_male_diabetics,1)"
   ]
  },
  {
   "cell_type": "code",
   "execution_count": 36,
   "id": "f2062bf2",
   "metadata": {
    "scrolled": true
   },
   "outputs": [],
   "source": [
    "# scatter plot\n",
    "male_diabetics_df.plot(kind='scatter',\n",
    "        x='age',\n",
    "        y='bmi',\n",
    "        color='blue')\n",
    " \n",
    "# set the title\n",
    "plt.title('Male Diabetics Age vs. BMI')\n",
    "\n",
    "#Set the Y limits so graphs are consistent\n",
    "ylim=(10,90)\n",
    "\n",
    "#show grid\n",
    "plt.grid(True)\n",
    "\n",
    "# show the plot\n",
    "plt.show()\n",
    " "
   ]
  },
  {
   "cell_type": "code",
   "execution_count": 37,
   "id": "2d21e893",
   "metadata": {
    "scrolled": true
   },
   "outputs": [],
   "source": [
    "# scatter plot\n",
    "female_diabetics_df.plot(kind='scatter',\n",
    "        x='age',\n",
    "        y='HbA1c_level',\n",
    "        color='red')\n",
    "\n",
    "#Set the Y limits so graphs are consistent\n",
    "#ylim=(3.5,9.5)\n",
    "female_diabetics_df.plot(ylim=(3.5,9.5))\n",
    "# set the title\n",
    "plt.title('Female Diabetics Age vs. HbA1c_level ')\n",
    "\n",
    "#show grid\n",
    "plt.grid(True)\n",
    "plt.show()\n",
    "\n",
    "\n"
   ]
  },
  {
   "cell_type": "code",
   "execution_count": 38,
   "id": "f46a2bc7",
   "metadata": {},
   "outputs": [],
   "source": [
    "# scatter plot\n",
    "male_diabetics_df.plot(kind='scatter',\n",
    "        x='age',\n",
    "        y='HbA1c_level',\n",
    "        color='blue')\n",
    "\n",
    "#Set the Y limits so graphs are consistent\n",
    "#ylim=(3.5,9.5)\n",
    "male_diabetics_df.plot(ylim=(3.5,9.5))\n",
    "\n",
    "# set the title\n",
    "plt.title('Male Diabetics Age vs. HbA1c_level ')\n",
    "\n",
    "#show grid\n",
    "plt.grid(True)\n",
    "plt.show()\n",
    "\n"
   ]
  },
  {
   "cell_type": "code",
   "execution_count": 39,
   "id": "438f7131",
   "metadata": {},
   "outputs": [],
   "source": [
    "# scatter plot\n",
    "female_diabetics_df.plot(kind='scatter',\n",
    "        x='age',\n",
    "        y='blood_glucose_level',\n",
    "        color='red')\n",
    "\n",
    "#Set the Y limits so graphs are consistent\n",
    "ylim=(75,325)\n",
    "\n",
    "# set the title\n",
    "plt.title('Female Diabetics Age vs. Blood Glucose Level ')\n",
    "\n",
    "#show grid\n",
    "plt.grid(True)\n",
    "plt.show()\n",
    "\n"
   ]
  },
  {
   "cell_type": "code",
   "execution_count": 40,
   "id": "fc2fd311",
   "metadata": {
    "scrolled": false
   },
   "outputs": [],
   "source": [
    "# scatter plot\n",
    "male_diabetics_df.plot(kind='scatter',\n",
    "        x='age',\n",
    "        y='blood_glucose_level',\n",
    "        color='blue')\n",
    " \n",
    "#Set the Y limits so graphs are consistent\n",
    "ylim=(75,325)\n",
    "\n",
    "# set the title\n",
    "plt.title('Male Diabetics Age vs. Blood Glucose Level ')\n",
    "\n",
    "#show grid\n",
    "plt.grid(True)\n",
    "plt.show()\n"
   ]
  },
  {
   "cell_type": "code",
   "execution_count": 41,
   "id": "545e633d",
   "metadata": {
    "scrolled": true
   },
   "outputs": [],
   "source": [
    "#correct for people not diagnosed with diabetes\n",
    "age_corrected_non_diabetics_df = age_corrected_df[age_corrected_df.diabetes ==0]\n",
    "age_corrected_non_diabetics_df.head()"
   ]
  },
  {
   "cell_type": "code",
   "execution_count": 42,
   "id": "19d13ac1",
   "metadata": {},
   "outputs": [],
   "source": [
    "#Age correct for type 2 Diabetes\n",
    "age_corrected_df = diabetes_df [diabetes_df.age >=30]\n",
    "age_corrected_df.head()\n"
   ]
  },
  {
   "cell_type": "code",
   "execution_count": 43,
   "id": "7c61055f",
   "metadata": {},
   "outputs": [],
   "source": [
    "#correct for people diagnosed with diabetes\n",
    "age_corrected_diabetics_df = age_corrected_df[age_corrected_df.diabetes ==1]\n",
    "age_corrected_diabetics_df.head()"
   ]
  },
  {
   "cell_type": "code",
   "execution_count": 44,
   "id": "3c7b7dd0",
   "metadata": {},
   "outputs": [],
   "source": [
    "female_diabetics_df = age_corrected_diabetics_df[(age_corrected_diabetics_df ['gender']== 'Female')]\n",
    "female_diabetics_df.head()"
   ]
  },
  {
   "cell_type": "code",
   "execution_count": 45,
   "id": "927f875a",
   "metadata": {},
   "outputs": [],
   "source": [
    "mean_age_female_diabetics = female_diabetics_df [\"hypertension\"].mean()\n",
    "mean_age_female_diabetics\n",
    "round(mean_age_female_diabetics,1)"
   ]
  },
  {
   "cell_type": "code",
   "execution_count": 46,
   "id": "e37407b5",
   "metadata": {},
   "outputs": [],
   "source": [
    "# scatter plot\n",
    "female_diabetics_df.plot(kind='scatter',\n",
    "        x='age',\n",
    "        y='hypertension',\n",
    "        color='green')\n",
    " \n",
    "# set the title\n",
    "plt.title('Female >=30 vs. Hypertension ')\n",
    "\n",
    "# set limit\n",
    "lower_limit=-1\n",
    "upper_limit=2\n",
    "\n",
    "plt.ylim(lower_limit, upper_limit)\n",
    "\n",
    "#show grid\n",
    "plt.grid(True)\n",
    "plt.show()"
   ]
  },
  {
   "cell_type": "code",
   "execution_count": 47,
   "id": "2cd0c2f6",
   "metadata": {},
   "outputs": [],
   "source": [
    "male_diabetics_df = age_corrected_diabetics_df[(age_corrected_diabetics_df ['gender']== 'Male')]\n",
    "male_diabetics_df.head()"
   ]
  },
  {
   "cell_type": "code",
   "execution_count": 48,
   "id": "22652ad7",
   "metadata": {},
   "outputs": [],
   "source": [
    "mean_age_male_diabetics = male_diabetics_df [\"hypertension\"].mean\n",
    "mean_age_male_diabetics\n",
    "round(mean_age_male_diabetics,1)"
   ]
  },
  {
   "cell_type": "code",
   "execution_count": 49,
   "id": "9290a4dd",
   "metadata": {},
   "outputs": [],
   "source": [
    "# scatter plot\n",
    "female_diabetics_df.plot(kind='scatter',\n",
    "        x='age',\n",
    "        y='hypertension',\n",
    "        color='yellow')\n",
    " \n",
    "# set the title\n",
    "plt.title('Male >=30 vs. Hypertension')\n",
    "\n",
    "# set limit\n",
    "lower_limit=-1\n",
    "upper_limit=2\n",
    "\n",
    "plt.ylim(lower_limit, upper_limit)\n",
    "\n",
    "#show grid\n",
    "plt.grid(True)\n",
    "plt.show()"
   ]
  },
  {
   "cell_type": "code",
   "execution_count": null,
   "id": "4a60b30f",
   "metadata": {},
   "outputs": [],
   "source": []
  },
  {
   "cell_type": "code",
   "execution_count": null,
   "id": "936a3cc0",
   "metadata": {},
   "outputs": [],
   "source": []
  }
 ],
 "metadata": {
  "kernelspec": {
   "display_name": "Python 3 (ipykernel)",
   "language": "python",
   "name": "python3"
  },
  "language_info": {
   "codemirror_mode": {
    "name": "ipython",
    "version": 3
   },
   "file_extension": ".py",
   "mimetype": "text/x-python",
   "name": "python",
   "nbconvert_exporter": "python",
   "pygments_lexer": "ipython3",
   "version": "3.9.13"
  }
 },
 "nbformat": 4,
 "nbformat_minor": 5
}
